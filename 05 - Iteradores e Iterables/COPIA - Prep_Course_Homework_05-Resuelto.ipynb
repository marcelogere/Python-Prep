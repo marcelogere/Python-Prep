{
 "cells": [
  {
   "attachments": {},
   "cell_type": "markdown",
   "metadata": {},
   "source": [
    "1) A partir de una listaa vacía, utilizar un ciclo while para cargar allí números negativos del -15 al -1"
   ]
  },
  {
   "cell_type": "code",
   "execution_count": 13,
   "metadata": {},
   "outputs": [
    {
     "name": "stdout",
     "output_type": "stream",
     "text": [
      "[-15, -14, -13, -12, -11, -10, -9, -8, -7, -6, -5, -4, -3, -2, -1]\n"
     ]
    }
   ],
   "source": [
    "lista = []\n",
    "num = -15\n",
    "while(num<0):\n",
    "    lista.append(num)\n",
    "    num += 1\n",
    "print(lista)"
   ]
  },
  {
   "attachments": {},
   "cell_type": "markdown",
   "metadata": {},
   "source": [
    "2) ¿Con un ciclo while sería posible recorrer la listaa para imprimir sólo los números pares?"
   ]
  },
  {
   "cell_type": "code",
   "execution_count": 12,
   "metadata": {},
   "outputs": [
    {
     "name": "stdout",
     "output_type": "stream",
     "text": [
      "-14 -12 -10 -8 -6 -4 -2 "
     ]
    }
   ],
   "source": [
    "n = 0\n",
    "while(n<len(lista)):\n",
    "    if(lista[n]%2 == 0):\n",
    "        print(lista[n], end=\" \")\n",
    "    n += 1"
   ]
  },
  {
   "attachments": {},
   "cell_type": "markdown",
   "metadata": {},
   "source": [
    "3) Resolver el punto anterior sin utilizar un ciclo while"
   ]
  },
  {
   "cell_type": "code",
   "execution_count": 16,
   "metadata": {},
   "outputs": [
    {
     "name": "stdout",
     "output_type": "stream",
     "text": [
      "-14 -12 -10 -8 -6 -4 -2 "
     ]
    }
   ],
   "source": [
    "for i in lista:\n",
    "    if(lista[i]%2 == 0):\n",
    "        print(lista[i], end=\" \")"
   ]
  },
  {
   "attachments": {},
   "cell_type": "markdown",
   "metadata": {},
   "source": [
    "4) Utilizar el iterable para recorrer sólo los primeros 3 elementos"
   ]
  },
  {
   "cell_type": "code",
   "execution_count": 20,
   "metadata": {},
   "outputs": [
    {
     "name": "stdout",
     "output_type": "stream",
     "text": [
      "-15 -14 -13 "
     ]
    }
   ],
   "source": [
    "for i in range(0, 3):\n",
    "    print(lista[i], end=\" \")"
   ]
  },
  {
   "attachments": {},
   "cell_type": "markdown",
   "metadata": {},
   "source": [
    "5) Utilizar la función **enumerate** para obtener dentro del iterable, tambien el índice al que corresponde el elemento"
   ]
  },
  {
   "cell_type": "code",
   "execution_count": 23,
   "metadata": {},
   "outputs": [
    {
     "name": "stdout",
     "output_type": "stream",
     "text": [
      "0 :  -15\n",
      "1 :  -14\n",
      "2 :  -13\n",
      "3 :  -12\n",
      "4 :  -11\n",
      "5 :  -10\n",
      "6 :  -9\n",
      "7 :  -8\n",
      "8 :  -7\n",
      "9 :  -6\n",
      "10 :  -5\n",
      "11 :  -4\n",
      "12 :  -3\n",
      "13 :  -2\n",
      "14 :  -1\n"
     ]
    }
   ],
   "source": [
    "for i, c in enumerate(lista):\n",
    "    print(i,\": \", c)"
   ]
  },
  {
   "attachments": {},
   "cell_type": "markdown",
   "metadata": {},
   "source": [
    "6) Dada la siguiente listaa de números enteros entre 1 y 20, crear un ciclo donde se completen los valores faltantes: listaa = [1,2,5,7,8,10,13,14,15,17,20]"
   ]
  },
  {
   "cell_type": "code",
   "execution_count": 41,
   "metadata": {},
   "outputs": [
    {
     "name": "stdout",
     "output_type": "stream",
     "text": [
      "[1, 2, 3, 4, 5, 6, 7, 8, 9, 10, 11, 12, 13, 14, 15, 16, 17, 18, 19, 20]\n"
     ]
    }
   ],
   "source": [
    "listaa = [1,2,5,7,8,10,13,14,15,17,20]\n",
    "for i in range(1,21):\n",
    "    if (not(i in listaa)):\n",
    "        listaa.insert(i-1, i)\n",
    "print(listaa)"
   ]
  },
  {
   "attachments": {},
   "cell_type": "markdown",
   "metadata": {},
   "source": [
    "7) La sucesión de Fibonacci es un listaado de números que sigue la fórmula: <br>\n",
    "n<sub>0</sub> = 0<br>\n",
    "n<sub>1</sub> = 1<br>\n",
    "n<sub>i</sub> = n<sub>i-1</sub> + n<sub>i-2</sub><br>\n",
    "Crear una listaa con los primeros treinta números de la sucesión.<br>"
   ]
  },
  {
   "cell_type": "code",
   "execution_count": 2,
   "metadata": {},
   "outputs": [
    {
     "name": "stdout",
     "output_type": "stream",
     "text": [
      "[0, 1, 1, 2, 3, 5, 8, 13, 21, 34, 55, 89, 144, 233, 377, 610, 987, 1597, 2584, 4181, 6765, 10946, 17711, 28657, 46368, 75025, 121393, 196418, 317811, 514229]\n"
     ]
    }
   ],
   "source": [
    "fibo = [0,1]\n",
    "n = 2\n",
    "while(n < 30):\n",
    "    fibo.append(fibo[n-1]+fibo[n-2])\n",
    "    n += 1\n",
    "print(fibo)"
   ]
  },
  {
   "attachments": {},
   "cell_type": "markdown",
   "metadata": {},
   "source": [
    "8) Realizar la suma de todos elementos de la listaa del punto anterior"
   ]
  },
  {
   "cell_type": "code",
   "execution_count": 3,
   "metadata": {},
   "outputs": [
    {
     "data": {
      "text/plain": [
       "1346268"
      ]
     },
     "execution_count": 3,
     "metadata": {},
     "output_type": "execute_result"
    }
   ],
   "source": [
    "sum(fibo)"
   ]
  },
  {
   "attachments": {},
   "cell_type": "markdown",
   "metadata": {},
   "source": [
    "9) La proporción aurea se expresa con una proporción matemática que nace el número irracional Phi= 1,618… que los griegos llamaron número áureo. El cuál se puede aproximar con la sucesión de Fibonacci. Con la listaa del ejercicio anterior, imprimir el cociente de los últimos 5 pares de dos números contiguos:<br>\n",
    "Donde i es la cantidad total de elementos<br>\n",
    "n<sub>i-1</sub> / n<sub>i</sub><br>\n",
    "n<sub>i-2</sub> / n<sub>i-1</sub><br>\n",
    "n<sub>i-3</sub> / n<sub>i-2</sub><br>\n",
    "n<sub>i-4</sub> / n<sub>i-3</sub><br>\n",
    "n<sub>i-5</sub> / n<sub>i-4</sub><br>"
   ]
  },
  {
   "cell_type": "code",
   "execution_count": 9,
   "metadata": {},
   "outputs": [
    {
     "name": "stdout",
     "output_type": "stream",
     "text": [
      "1.6180339887543225\n",
      "1.618033988738303\n",
      "1.6180339887802426\n",
      "1.6180339886704431\n",
      "1.618033988957902\n"
     ]
    }
   ],
   "source": [
    "n = len(fibo)-1\n",
    "for i in range(0,5):\n",
    "    print(fibo[n]/fibo[n-1])\n",
    "    n -= 1"
   ]
  },
  {
   "attachments": {},
   "cell_type": "markdown",
   "metadata": {},
   "source": [
    "10) A partir de la variable cadena ya dada, mostrar en qué posiciones aparece la letra \"n\"<br>\n",
    "cadena = 'Hola Mundo. Esto es una practica del lenguaje de programación Python'"
   ]
  },
  {
   "cell_type": "code",
   "execution_count": 3,
   "metadata": {},
   "outputs": [
    {
     "name": "stdout",
     "output_type": "stream",
     "text": [
      "7\n",
      "21\n",
      "39\n",
      "60\n",
      "67\n"
     ]
    }
   ],
   "source": [
    "cadena = 'Hola Mundo. Esto es una practica del lenguaje de programación Python'\n",
    "for i, c in enumerate(cadena):\n",
    "    if(c=='n'):\n",
    "        print(i)\n"
   ]
  },
  {
   "attachments": {},
   "cell_type": "markdown",
   "metadata": {},
   "source": [
    "11) Crear un diccionario e imprimir sus claves utilizando un iterador"
   ]
  },
  {
   "cell_type": "code",
   "execution_count": 5,
   "metadata": {},
   "outputs": [
    {
     "name": "stdout",
     "output_type": "stream",
     "text": [
      "Ciudad\n",
      "Pais\n",
      "Continente\n"
     ]
    }
   ],
   "source": [
    "diccionario = {\n",
    "    'Ciudad': ['Buenos Aires', 'Rio de Janeiro', 'Montevideo', 'New York', 'Madrid', 'Valparaiso'],\n",
    "    'Pais': ['Argentina', 'Brasil', 'Uruguay', 'E.E. U.U.', 'Chile'],\n",
    "    'Continente': ['America del Sur', 'America del Norte']\n",
    "}\n",
    "for i in diccionario:\n",
    "    print(i)"
   ]
  },
  {
   "attachments": {},
   "cell_type": "markdown",
   "metadata": {},
   "source": [
    "12) Convertir en una listaa la variable \"cadena\" del punto 10 y luego recorrerla con un iterador "
   ]
  },
  {
   "cell_type": "code",
   "execution_count": 9,
   "metadata": {},
   "outputs": [
    {
     "name": "stdout",
     "output_type": "stream",
     "text": [
      "H\n",
      "o\n",
      "l\n",
      "a\n",
      " \n",
      "M\n",
      "u\n",
      "n\n",
      "d\n",
      "o\n",
      ".\n",
      " \n",
      "E\n",
      "s\n",
      "t\n",
      "o\n",
      " \n",
      "e\n",
      "s\n",
      " \n",
      "u\n",
      "n\n",
      "a\n",
      " \n",
      "p\n",
      "r\n",
      "a\n",
      "c\n",
      "t\n",
      "i\n",
      "c\n",
      "a\n",
      " \n",
      "d\n",
      "e\n",
      "l\n",
      " \n",
      "l\n",
      "e\n",
      "n\n",
      "g\n",
      "u\n",
      "a\n",
      "j\n",
      "e\n",
      " \n",
      "d\n",
      "e\n",
      " \n",
      "p\n",
      "r\n",
      "o\n",
      "g\n",
      "r\n",
      "a\n",
      "m\n",
      "a\n",
      "c\n",
      "i\n",
      "ó\n",
      "n\n",
      " \n",
      "P\n",
      "y\n",
      "t\n",
      "h\n",
      "o\n",
      "n\n"
     ]
    }
   ],
   "source": [
    "listaa2 = lista(cadena)\n",
    "for i in listaa2:\n",
    "    print(i)"
   ]
  },
  {
   "attachments": {},
   "cell_type": "markdown",
   "metadata": {},
   "source": [
    "13) Crear dos listaas y unirlas en una tupla utilizando la función zip"
   ]
  },
  {
   "cell_type": "code",
   "execution_count": 12,
   "metadata": {},
   "outputs": [
    {
     "data": {
      "text/plain": [
       "[('Buenos Aires', 'Madrid'), ('Rio de Janeiro', 'Valparaiso')]"
      ]
     },
     "execution_count": 12,
     "metadata": {},
     "output_type": "execute_result"
    }
   ],
   "source": [
    "listaa1 = ['Buenos Aires', 'Rio de Janeiro', 'Montevideo', 'New York']\n",
    "listaa3 = ['Madrid', 'Valparaiso']\n",
    "listaa4 = zip(listaa1, listaa3)\n",
    "lista(listaa4)"
   ]
  },
  {
   "attachments": {},
   "cell_type": "markdown",
   "metadata": {},
   "source": [
    "14) A partir de la siguiente listaa de números, crear una nueva sólo si el número es divisible por 7<br>\n",
    "lis = [18,21,29,32,35,42,56,60,63,71,84,90,91,100]"
   ]
  },
  {
   "cell_type": "code",
   "execution_count": 13,
   "metadata": {},
   "outputs": [
    {
     "name": "stdout",
     "output_type": "stream",
     "text": [
      "[21, 35, 42, 56, 63, 84, 91]\n"
     ]
    }
   ],
   "source": [
    "lis = [18,21,29,32,35,42,56,60,63,71,84,90,91,100]\n",
    "lis2 = []\n",
    "for num in lis:\n",
    "    if(num%7==0):\n",
    "        lis2.append(num)\n",
    "print(lis2)"
   ]
  },
  {
   "attachments": {},
   "cell_type": "markdown",
   "metadata": {},
   "source": [
    "15) A partir de la listaa de a continuación, contar la cantidad total de elementos que contiene, teniendo en cuenta que un elemento de la listaa podría ser otra listaa:<br>\n",
    "lis = [[1,2,3,4],'rojo','verde',[True,False,False],['uno','dos','tres']]"
   ]
  },
  {
   "cell_type": "code",
   "execution_count": 2,
   "metadata": {},
   "outputs": [
    {
     "name": "stdout",
     "output_type": "stream",
     "text": [
      "5\n"
     ]
    }
   ],
   "source": [
    "lis = [[1,2,3,4],'rojo','verde',[True,False,False],['uno','dos','tres']]\n",
    "elem = 0\n",
    "for i in lis:\n",
    "    elem += 1\n",
    "print(elem)"
   ]
  },
  {
   "attachments": {},
   "cell_type": "markdown",
   "metadata": {},
   "source": [
    "16) Tomar la listaa del punto anterior y convertir cada elemento en una listaa si no lo es"
   ]
  },
  {
   "cell_type": "code",
   "execution_count": 3,
   "metadata": {},
   "outputs": [
    {
     "data": {
      "text/plain": [
       "list"
      ]
     },
     "execution_count": 3,
     "metadata": {},
     "output_type": "execute_result"
    }
   ],
   "source": [
    "type(lis)"
   ]
  },
  {
   "cell_type": "code",
   "execution_count": 4,
   "metadata": {},
   "outputs": [
    {
     "name": "stdout",
     "output_type": "stream",
     "text": [
      "[[1, 2, 3, 4], ['rojo'], ['verde'], [True, False, False], ['uno', 'dos', 'tres']]\n"
     ]
    }
   ],
   "source": [
    "for i, elem in enumerate(lis):\n",
    "    if(type(elem) != list):\n",
    "        lis[i] = [elem]\n",
    "print(lis)"
   ]
  }
 ],
 "metadata": {
  "kernelspec": {
   "display_name": "Python 3",
   "language": "python",
   "name": "python3"
  },
  "language_info": {
   "codemirror_mode": {
    "name": "ipython",
    "version": 3
   },
   "file_extension": ".py",
   "mimetype": "text/x-python",
   "name": "python",
   "nbconvert_exporter": "python",
   "pygments_lexer": "ipython3",
   "version": "3.11.0"
  },
  "orig_nbformat": 4
 },
 "nbformat": 4,
 "nbformat_minor": 2
}
