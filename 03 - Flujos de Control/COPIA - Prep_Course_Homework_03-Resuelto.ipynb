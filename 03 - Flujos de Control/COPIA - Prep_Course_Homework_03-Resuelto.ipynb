{
 "cells": [
  {
   "attachments": {},
   "cell_type": "markdown",
   "metadata": {},
   "source": [
    "1) Crear una variable que contenga un elemento del conjunto de números enteros y luego imprimir por pantalla si es mayor o menor a cero"
   ]
  },
  {
   "cell_type": "code",
   "execution_count": 5,
   "metadata": {},
   "outputs": [
    {
     "name": "stdout",
     "output_type": "stream",
     "text": [
      "El numero es menor a cero\n"
     ]
    }
   ],
   "source": [
    "num = 3\n",
    "if(num>0):\n",
    "    print('El numero es mayor a cero')\n",
    "elif(num<0):\n",
    "    print('El numero es menor a cero')\n",
    "else:\n",
    "    print('El numero es igual a cero')"
   ]
  },
  {
   "attachments": {},
   "cell_type": "markdown",
   "metadata": {},
   "source": [
    "2) Crear dos variables y un condicional que informe si son del mismo tipo de dato"
   ]
  },
  {
   "cell_type": "code",
   "execution_count": 6,
   "metadata": {},
   "outputs": [
    {
     "name": "stdout",
     "output_type": "stream",
     "text": [
      "Las variables son de diferente tipo: var1 es de tipo  <class 'int'>  y var2 es de tipo  <class 'str'>\n"
     ]
    }
   ],
   "source": [
    "var1 = 5\n",
    "var2 = 'Hola'\n",
    "if(type(var1)==type(var2)):\n",
    "    print('Las variables son del mismo tipo: ', type(var1))\n",
    "else:\n",
    "    print('Las variables son de diferente tipo: var1 es de tipo ', type(var1), ' y var2 es de tipo ', type(var2))"
   ]
  },
  {
   "attachments": {},
   "cell_type": "markdown",
   "metadata": {},
   "source": [
    "3) Para los valores enteros del 1 al 20, imprimir por pantalla si es par o impar"
   ]
  },
  {
   "cell_type": "code",
   "execution_count": 8,
   "metadata": {},
   "outputs": [
    {
     "name": "stdout",
     "output_type": "stream",
     "text": [
      "1  es un numero impar\n",
      "2  es un numero par\n",
      "3  es un numero impar\n",
      "4  es un numero par\n",
      "5  es un numero impar\n",
      "6  es un numero par\n",
      "7  es un numero impar\n",
      "8  es un numero par\n",
      "9  es un numero impar\n",
      "10  es un numero par\n",
      "11  es un numero impar\n",
      "12  es un numero par\n",
      "13  es un numero impar\n",
      "14  es un numero par\n",
      "15  es un numero impar\n",
      "16  es un numero par\n",
      "17  es un numero impar\n",
      "18  es un numero par\n",
      "19  es un numero impar\n",
      "20  es un numero par\n"
     ]
    }
   ],
   "source": [
    "for i in range(1,21):\n",
    "    if(i%2==0):\n",
    "        print(i, ' es un numero par')\n",
    "    else:\n",
    "        print(i, ' es un numero impar')"
   ]
  },
  {
   "attachments": {},
   "cell_type": "markdown",
   "metadata": {},
   "source": [
    "4) En un ciclo for mostrar para los valores entre 0 y 5 el resultado de elevarlo a la potencia igual a 3"
   ]
  },
  {
   "cell_type": "code",
   "execution_count": 9,
   "metadata": {},
   "outputs": [
    {
     "name": "stdout",
     "output_type": "stream",
     "text": [
      "1  elevado a la 3° potencia es:  1\n",
      "2  elevado a la 3° potencia es:  8\n",
      "3  elevado a la 3° potencia es:  27\n",
      "4  elevado a la 3° potencia es:  64\n",
      "5  elevado a la 3° potencia es:  125\n"
     ]
    }
   ],
   "source": [
    "for i in range(1,6):\n",
    "    print(i, ' elevado a la 3° potencia es: ', i**3)"
   ]
  },
  {
   "attachments": {},
   "cell_type": "markdown",
   "metadata": {},
   "source": [
    "5) Crear una variable que contenga un número entero y realizar un ciclo for la misma cantidad de ciclos"
   ]
  },
  {
   "cell_type": "code",
   "execution_count": 11,
   "metadata": {},
   "outputs": [
    {
     "name": "stdout",
     "output_type": "stream",
     "text": [
      "1\n",
      "2\n",
      "3\n",
      "4\n",
      "5\n",
      "6\n",
      "7\n"
     ]
    }
   ],
   "source": [
    "var = 7\n",
    "for i in range(1, var+1):\n",
    "    print(i)"
   ]
  },
  {
   "attachments": {},
   "cell_type": "markdown",
   "metadata": {},
   "source": [
    "6) Utilizar un ciclo while para realizar el factorial de un número guardado en una variable, sólo si la variable contiene un número entero mayor a 0"
   ]
  },
  {
   "cell_type": "code",
   "execution_count": 14,
   "metadata": {},
   "outputs": [
    {
     "name": "stdout",
     "output_type": "stream",
     "text": [
      "El factorial es:  24\n"
     ]
    }
   ],
   "source": [
    "num = 4\n",
    "if(type(num)==int):\n",
    "    if(num>0):\n",
    "        fact = num\n",
    "        while(num>2):\n",
    "            num -= 1\n",
    "            fact = fact*num\n",
    "        print('El factorial es: ', fact)    \n",
    "    else:\n",
    "        print('El número no es mayor a cero')\n",
    "else:\n",
    "    print('El número no es un entero')        "
   ]
  },
  {
   "attachments": {},
   "cell_type": "markdown",
   "metadata": {},
   "source": [
    "7) Crear un ciclo for dentro de un ciclo while"
   ]
  },
  {
   "cell_type": "code",
   "execution_count": 4,
   "metadata": {},
   "outputs": [
    {
     "name": "stdout",
     "output_type": "stream",
     "text": [
      "Ciclo while:  2\n",
      "Ciclo for:  1\n",
      "Ciclo while:  3\n",
      "Ciclo for:  1\n",
      "Ciclo while:  3\n",
      "Ciclo for:  2\n",
      "Ciclo while:  4\n",
      "Ciclo for:  1\n",
      "Ciclo while:  4\n",
      "Ciclo for:  2\n",
      "Ciclo while:  4\n",
      "Ciclo for:  3\n",
      "Ciclo while:  5\n",
      "Ciclo for:  1\n",
      "Ciclo while:  5\n",
      "Ciclo for:  2\n",
      "Ciclo while:  5\n",
      "Ciclo for:  3\n",
      "Ciclo while:  5\n",
      "Ciclo for:  4\n",
      "Ciclo while:  6\n",
      "Ciclo for:  1\n",
      "Ciclo while:  6\n",
      "Ciclo for:  2\n",
      "Ciclo while:  6\n",
      "Ciclo for:  3\n",
      "Ciclo while:  6\n",
      "Ciclo for:  4\n",
      "Ciclo while:  6\n",
      "Ciclo for:  5\n",
      "Ciclo while:  7\n",
      "Ciclo for:  1\n",
      "Ciclo while:  7\n",
      "Ciclo for:  2\n",
      "Ciclo while:  7\n",
      "Ciclo for:  3\n",
      "Ciclo while:  7\n",
      "Ciclo for:  4\n",
      "Ciclo while:  7\n",
      "Ciclo for:  5\n",
      "Ciclo while:  7\n",
      "Ciclo for:  6\n",
      "Ciclo while:  8\n",
      "Ciclo for:  1\n",
      "Ciclo while:  8\n",
      "Ciclo for:  2\n",
      "Ciclo while:  8\n",
      "Ciclo for:  3\n",
      "Ciclo while:  8\n",
      "Ciclo for:  4\n",
      "Ciclo while:  8\n",
      "Ciclo for:  5\n",
      "Ciclo while:  8\n",
      "Ciclo for:  6\n",
      "Ciclo while:  8\n",
      "Ciclo for:  7\n",
      "Ciclo while:  9\n",
      "Ciclo for:  1\n",
      "Ciclo while:  9\n",
      "Ciclo for:  2\n",
      "Ciclo while:  9\n",
      "Ciclo for:  3\n",
      "Ciclo while:  9\n",
      "Ciclo for:  4\n",
      "Ciclo while:  9\n",
      "Ciclo for:  5\n",
      "Ciclo while:  9\n",
      "Ciclo for:  6\n",
      "Ciclo while:  9\n",
      "Ciclo for:  7\n",
      "Ciclo while:  9\n",
      "Ciclo for:  8\n",
      "Ciclo while:  10\n",
      "Ciclo for:  1\n",
      "Ciclo while:  10\n",
      "Ciclo for:  2\n",
      "Ciclo while:  10\n",
      "Ciclo for:  3\n",
      "Ciclo while:  10\n",
      "Ciclo for:  4\n",
      "Ciclo while:  10\n",
      "Ciclo for:  5\n",
      "Ciclo while:  10\n",
      "Ciclo for:  6\n",
      "Ciclo while:  10\n",
      "Ciclo for:  7\n",
      "Ciclo while:  10\n",
      "Ciclo for:  8\n",
      "Ciclo while:  10\n",
      "Ciclo for:  9\n"
     ]
    }
   ],
   "source": [
    "var = 0\n",
    "while(var<10):\n",
    "    var+=1\n",
    "    for i in range(1, var):\n",
    "        print('Ciclo while: ', var)\n",
    "        print('Ciclo for: ', i)\n",
    "        "
   ]
  },
  {
   "attachments": {},
   "cell_type": "markdown",
   "metadata": {},
   "source": [
    "8) Crear un ciclo while dentro de un ciclo for"
   ]
  },
  {
   "cell_type": "code",
   "execution_count": 5,
   "metadata": {},
   "outputs": [
    {
     "name": "stdout",
     "output_type": "stream",
     "text": [
      "Ciclo while:  1\n",
      "Ciclo for:  1\n",
      "Ciclo while:  2\n",
      "Ciclo for:  1\n",
      "Ciclo while:  3\n",
      "Ciclo for:  1\n",
      "Ciclo while:  4\n",
      "Ciclo for:  1\n",
      "Ciclo while:  5\n",
      "Ciclo for:  1\n",
      "Ciclo while:  6\n",
      "Ciclo for:  1\n",
      "Ciclo while:  7\n",
      "Ciclo for:  1\n",
      "Ciclo while:  8\n",
      "Ciclo for:  1\n",
      "Ciclo while:  9\n",
      "Ciclo for:  1\n"
     ]
    }
   ],
   "source": [
    "var = 10\n",
    "n = 0\n",
    "for i in range(1, var):\n",
    "    while(n<9):\n",
    "        n += 1\n",
    "        print('Ciclo while: ', n)\n",
    "        print('Ciclo for: ', i)"
   ]
  },
  {
   "attachments": {},
   "cell_type": "markdown",
   "metadata": {},
   "source": [
    "9) Imprimir los números primos existentes entre 0 y 30"
   ]
  },
  {
   "cell_type": "code",
   "execution_count": 20,
   "metadata": {},
   "outputs": [
    {
     "name": "stdout",
     "output_type": "stream",
     "text": [
      "0 es numero primo.\n",
      "1 es numero primo.\n",
      "2 es numero primo.\n",
      "3 es numero primo.\n",
      "5 es numero primo.\n",
      "7 es numero primo.\n",
      "11 es numero primo.\n",
      "13 es numero primo.\n",
      "17 es numero primo.\n",
      "19 es numero primo.\n",
      "23 es numero primo.\n",
      "29 es numero primo.\n",
      "Cantidad de ciclos For:  126\n"
     ]
    }
   ],
   "source": [
    "ciclosFor = 0\n",
    "prim = True\n",
    "for i in range(0,31):\n",
    "    for j in range(2,i-1):\n",
    "        ciclosFor += 1\n",
    "        if(i%j==0):\n",
    "            prim = False\n",
    "            break\n",
    "        else:\n",
    "            prim = True\n",
    "    if(prim==True):\n",
    "        print(i, 'es numero primo.')\n",
    "print('Cantidad de ciclos For: ', ciclosFor)"
   ]
  },
  {
   "cell_type": "code",
   "execution_count": 16,
   "metadata": {},
   "outputs": [
    {
     "name": "stdout",
     "output_type": "stream",
     "text": [
      "0\n",
      "1\n",
      "2\n",
      "3\n",
      "5\n",
      "7\n",
      "11\n",
      "13\n",
      "17\n",
      "19\n",
      "23\n",
      "29\n"
     ]
    }
   ],
   "source": [
    "tope_rango=30\n",
    "n = 0\n",
    "primo = True\n",
    "while (n < tope_rango):\n",
    "    for div in range(2, n):\n",
    "        if (n % div == 0):\n",
    "            primo = False\n",
    "    if (primo):\n",
    "        print(n)\n",
    "    else:\n",
    "        primo = True\n",
    "    n += 1"
   ]
  },
  {
   "attachments": {},
   "cell_type": "markdown",
   "metadata": {},
   "source": [
    "10) ¿Se puede mejorar el proceso del punto 9? Utilizar las sentencias break y/ó continue para tal fin"
   ]
  },
  {
   "cell_type": "code",
   "execution_count": 2,
   "metadata": {},
   "outputs": [
    {
     "name": "stdout",
     "output_type": "stream",
     "text": [
      "0\n",
      "1\n",
      "2\n",
      "3\n",
      "5\n",
      "7\n",
      "11\n",
      "13\n",
      "17\n",
      "19\n",
      "23\n",
      "29\n"
     ]
    }
   ],
   "source": [
    "tope_rango=30\n",
    "n = 0\n",
    "primo = True\n",
    "while (n < tope_rango):\n",
    "    for div in range(2, n):\n",
    "        if (n % div == 0):\n",
    "            primo = False\n",
    "            break\n",
    "    if (primo):\n",
    "        print(n)\n",
    "    else:\n",
    "        primo = True\n",
    "    n += 1"
   ]
  },
  {
   "attachments": {},
   "cell_type": "markdown",
   "metadata": {},
   "source": [
    "11) En los puntos 9 y 10, se diseño un código que encuentra números primos y además se lo optimizó. ¿Es posible saber en qué medida se optimizó?"
   ]
  },
  {
   "cell_type": "code",
   "execution_count": 4,
   "metadata": {},
   "outputs": [
    {
     "name": "stdout",
     "output_type": "stream",
     "text": [
      "0\n",
      "1\n",
      "2\n",
      "3\n",
      "5\n",
      "7\n",
      "11\n",
      "13\n",
      "17\n",
      "19\n",
      "23\n",
      "29\n",
      "ciclos sin break:  378\n"
     ]
    }
   ],
   "source": [
    "ciclosSinBreak = 0\n",
    "tope_rango=30\n",
    "n = 0\n",
    "primo = True\n",
    "while (n < tope_rango):\n",
    "    for div in range(2, n):\n",
    "        ciclosSinBreak += 1\n",
    "        if (n % div == 0):\n",
    "            primo = False\n",
    "    if (primo):\n",
    "        print(n)\n",
    "    else:\n",
    "        primo = True\n",
    "    n += 1\n",
    "print('ciclos sin break: ', ciclosSinBreak)"
   ]
  },
  {
   "cell_type": "code",
   "execution_count": 8,
   "metadata": {},
   "outputs": [
    {
     "name": "stdout",
     "output_type": "stream",
     "text": [
      "0\n",
      "1\n",
      "2\n",
      "3\n",
      "5\n",
      "7\n",
      "11\n",
      "13\n",
      "17\n",
      "19\n",
      "23\n",
      "29\n",
      "Ciclos con break:  134\n",
      "Rendimiento:  35.45 %\n"
     ]
    }
   ],
   "source": [
    "ciclosConBreak = 0\n",
    "tope_rango=30\n",
    "n = 0\n",
    "primo = True\n",
    "while (n < tope_rango):\n",
    "    for div in range(2, n):\n",
    "        ciclosConBreak += 1\n",
    "        if (n % div == 0):\n",
    "            primo = False\n",
    "            break\n",
    "    if (primo):\n",
    "        print(n)\n",
    "    else:\n",
    "        primo = True\n",
    "    n += 1\n",
    "print('Ciclos con break: ', ciclosConBreak)\n",
    "print('Rendimiento: ', round(ciclosConBreak/ciclosSinBreak*100, 2), '%')"
   ]
  },
  {
   "attachments": {},
   "cell_type": "markdown",
   "metadata": {},
   "source": [
    "12) Si la cantidad de números que se evalúa es mayor a treinta, esa optimización crece?"
   ]
  },
  {
   "cell_type": "code",
   "execution_count": 9,
   "metadata": {},
   "outputs": [
    {
     "name": "stdout",
     "output_type": "stream",
     "text": [
      "0\n",
      "1\n",
      "2\n",
      "3\n",
      "5\n",
      "7\n",
      "11\n",
      "13\n",
      "17\n",
      "19\n",
      "23\n",
      "29\n",
      "31\n",
      "37\n",
      "41\n",
      "43\n",
      "47\n",
      "53\n",
      "59\n",
      "61\n",
      "67\n",
      "71\n",
      "73\n",
      "79\n",
      "83\n",
      "89\n",
      "97\n",
      "ciclos sin break:  4753\n"
     ]
    }
   ],
   "source": [
    "ciclosSinBreak = 0\n",
    "tope_rango=100\n",
    "n = 0\n",
    "primo = True\n",
    "while (n < tope_rango):\n",
    "    for div in range(2, n):\n",
    "        ciclosSinBreak += 1\n",
    "        if (n % div == 0):\n",
    "            primo = False\n",
    "    if (primo):\n",
    "        print(n)\n",
    "    else:\n",
    "        primo = True\n",
    "    n += 1\n",
    "print('ciclos sin break: ', ciclosSinBreak)"
   ]
  },
  {
   "cell_type": "code",
   "execution_count": 10,
   "metadata": {},
   "outputs": [
    {
     "name": "stdout",
     "output_type": "stream",
     "text": [
      "0\n",
      "1\n",
      "2\n",
      "3\n",
      "5\n",
      "7\n",
      "11\n",
      "13\n",
      "17\n",
      "19\n",
      "23\n",
      "29\n",
      "31\n",
      "37\n",
      "41\n",
      "43\n",
      "47\n",
      "53\n",
      "59\n",
      "61\n",
      "67\n",
      "71\n",
      "73\n",
      "79\n",
      "83\n",
      "89\n",
      "97\n",
      "Ciclos con break:  1132\n",
      "Rendimiento:  23.82 %\n"
     ]
    }
   ],
   "source": [
    "ciclosConBreak = 0\n",
    "n = 0\n",
    "primo = True\n",
    "while (n < tope_rango):\n",
    "    for div in range(2, n):\n",
    "        ciclosConBreak += 1\n",
    "        if (n % div == 0):\n",
    "            primo = False\n",
    "            break\n",
    "    if (primo):\n",
    "        print(n)\n",
    "    else:\n",
    "        primo = True\n",
    "    n += 1\n",
    "print('Ciclos con break: ', ciclosConBreak)\n",
    "print('Rendimiento: ', round(ciclosConBreak/ciclosSinBreak*100, 2), '%')"
   ]
  },
  {
   "attachments": {},
   "cell_type": "markdown",
   "metadata": {},
   "source": [
    "13) Aplicando continue, armar un ciclo while que solo imprima los valores divisibles por 12, dentro del rango de números de 100 a 300"
   ]
  },
  {
   "cell_type": "code",
   "execution_count": 17,
   "metadata": {},
   "outputs": [
    {
     "name": "stdout",
     "output_type": "stream",
     "text": [
      "108  es divisible por 12\n",
      "120  es divisible por 12\n",
      "132  es divisible por 12\n",
      "144  es divisible por 12\n",
      "156  es divisible por 12\n",
      "168  es divisible por 12\n",
      "180  es divisible por 12\n",
      "192  es divisible por 12\n",
      "204  es divisible por 12\n",
      "216  es divisible por 12\n",
      "228  es divisible por 12\n",
      "240  es divisible por 12\n",
      "252  es divisible por 12\n",
      "264  es divisible por 12\n",
      "276  es divisible por 12\n",
      "288  es divisible por 12\n",
      "300  es divisible por 12\n"
     ]
    }
   ],
   "source": [
    "n = 99\n",
    "while(n<=300):\n",
    "    n += 1\n",
    "    if(n%12!=0):\n",
    "        continue\n",
    "    print(n, ' es divisible por 12')\n",
    "    "
   ]
  },
  {
   "attachments": {},
   "cell_type": "markdown",
   "metadata": {},
   "source": [
    "14) Utilizar la función **input()** que permite hacer ingresos por teclado, para encontrar números primos y dar la opción al usario de buscar el siguiente"
   ]
  },
  {
   "cell_type": "code",
   "execution_count": null,
   "metadata": {},
   "outputs": [],
   "source": [
    "prim = True\n",
    "\n",
    "for i in range(1,31):\n",
    "    for j in range(2,i-1):\n",
    "        if(i%j==0):\n",
    "            prim = False\n",
    "            break\n",
    "        else:\n",
    "            prim = True\n",
    "    if(prim==True):\n",
    "        print(i, 'es numero primo.')\n",
    "        print('Desea encontrar el proximo numero primo?')\n",
    "        if(input() != '1'):\n",
    "            print('Se finaliza el proceso')\n",
    "            break"
   ]
  },
  {
   "attachments": {},
   "cell_type": "markdown",
   "metadata": {},
   "source": [
    "15) Crear un ciclo while que encuentre dentro del rango de 100 a 300 el primer número divisible por 3 y además múltiplo de 6"
   ]
  },
  {
   "cell_type": "code",
   "execution_count": 6,
   "metadata": {},
   "outputs": [
    {
     "name": "stdout",
     "output_type": "stream",
     "text": [
      "114\n"
     ]
    }
   ],
   "source": [
    "n = 99\n",
    "while(n<=300):\n",
    "    n += 1\n",
    "    if(n%3==0 and n%6==0):\n",
    "        print(n)\n",
    "        break"
   ]
  }
 ],
 "metadata": {
  "kernelspec": {
   "display_name": "Python 3",
   "language": "python",
   "name": "python3"
  },
  "language_info": {
   "codemirror_mode": {
    "name": "ipython",
    "version": 3
   },
   "file_extension": ".py",
   "mimetype": "text/x-python",
   "name": "python",
   "nbconvert_exporter": "python",
   "pygments_lexer": "ipython3",
   "version": "3.11.0"
  },
  "orig_nbformat": 4
 },
 "nbformat": 4,
 "nbformat_minor": 2
}
